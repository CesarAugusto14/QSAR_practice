{
 "cells": [
  {
   "cell_type": "markdown",
   "metadata": {},
   "source": [
    "# Ensemble Models:\n",
    "\n",
    "Here I will be performing the same task performed in ECFP4_random_split_Linear_Models.ipynb, but using ensemble models. The chosen models will be a Random Forest (RF) regressor and a Gradient Boosting Machine (GBM), using Xgboost or LightGBM. "
   ]
  },
  {
   "cell_type": "code",
   "execution_count": 29,
   "metadata": {},
   "outputs": [],
   "source": [
    "# Standard\n",
    "import os\n",
    "import joblib\n",
    "\n",
    "# Third-party\n",
    "import deepchem as dc\n",
    "import matplotlib.pyplot as plt\n",
    "import numpy as np\n",
    "import optuna\n",
    "import pandas as pd\n",
    "import xgboost as xgb\n",
    "from optuna.samplers import TPESampler\n",
    "from rdkit import Chem, DataStructs\n",
    "from rdkit.Chem import AllChem\n",
    "from sklearn.linear_model import Lasso, LinearRegression, Ridge\n",
    "from sklearn.model_selection import cross_val_score\n",
    "from sklearn.ensemble import RandomForestRegressor\n",
    "\n",
    "# Own-coded\n",
    "from measurements import nRMSE\n",
    "from utils import get_similarity, load_bace\n",
    "\n",
    "# Make all the figures have Times New Roman font, and 16 font size\n",
    "plt.rcParams[\"font.family\"] = \"Times New Roman\"\n",
    "plt.rcParams[\"font.size\"] = 16\n"
   ]
  },
  {
   "cell_type": "code",
   "execution_count": 21,
   "metadata": {},
   "outputs": [],
   "source": [
    "# Load BACE regression dataset\n",
    "dfs = load_bace(splitter = dc.splits.RandomSplitter())\n",
    "df_train, df_valid, df_test = dfs\n",
    "smiles = df_train.smiles.values.tolist()\n",
    "similarity_matrix, fingerprints, mols = get_similarity(smiles)\n",
    "df = pd.DataFrame(similarity_matrix, index=smiles, columns=smiles)\n",
    "\n",
    "df_train = df_train.set_index('smiles')\n",
    "df_valid = df_valid.set_index('smiles')\n",
    "df_test = df_test.set_index('smiles')\n",
    "\n",
    "X = df_train.drop(columns=['targets'])\n",
    "y = df_train.targets.values\n",
    "x_valid = df_valid.drop(columns=['targets'])\n",
    "y_valid = df_valid.targets.values\n",
    "# X and x_valid are the new X_train\n",
    "# y and y_valid are the new y_train\n",
    "X_train = pd.concat([X, x_valid])\n",
    "y_train = np.concatenate([y, y_valid])\n",
    "x_test = df_test.drop(columns=['targets'])\n",
    "y_test = df_test.targets.values"
   ]
  },
  {
   "cell_type": "markdown",
   "metadata": {},
   "source": [
    "## Random Forest Regressor"
   ]
  },
  {
   "cell_type": "code",
   "execution_count": 3,
   "metadata": {},
   "outputs": [
    {
     "name": "stderr",
     "output_type": "stream",
     "text": [
      "\u001b[32m[I 2024-09-08 21:10:47,330]\u001b[0m A new study created in memory with name: RandomForest\u001b[0m\n",
      "/Users/cesarasa/miniconda3/envs/torch-gpu/lib/python3.8/site-packages/optuna/study/study.py:393: FutureWarning: `n_jobs` argument has been deprecated in v2.7.0. This feature will be removed in v4.0.0. See https://github.com/optuna/optuna/releases/tag/v2.7.0.\n",
      "  warnings.warn(\n",
      "\u001b[32m[I 2024-09-08 21:11:40,462]\u001b[0m Trial 9 finished with value: 0.6804757552474776 and parameters: {'n_estimators': 273, 'max_depth': 63}. Best is trial 9 with value: 0.6804757552474776.\u001b[0m\n",
      "\u001b[32m[I 2024-09-08 21:11:46,196]\u001b[0m Trial 2 finished with value: 0.679860198038521 and parameters: {'n_estimators': 306, 'max_depth': 34}. Best is trial 9 with value: 0.6804757552474776.\u001b[0m\n",
      "\u001b[32m[I 2024-09-08 21:11:47,421]\u001b[0m Trial 6 finished with value: 0.6797472237025086 and parameters: {'n_estimators': 305, 'max_depth': 49}. Best is trial 9 with value: 0.6804757552474776.\u001b[0m\n",
      "\u001b[32m[I 2024-09-08 21:11:54,886]\u001b[0m Trial 3 finished with value: 0.6788303267766693 and parameters: {'n_estimators': 352, 'max_depth': 30}. Best is trial 9 with value: 0.6804757552474776.\u001b[0m\n",
      "\u001b[32m[I 2024-09-08 21:12:03,975]\u001b[0m Trial 8 finished with value: 0.6804255522773655 and parameters: {'n_estimators': 390, 'max_depth': 40}. Best is trial 9 with value: 0.6804757552474776.\u001b[0m\n",
      "\u001b[32m[I 2024-09-08 21:12:06,447]\u001b[0m Trial 4 finished with value: 0.6800777857230031 and parameters: {'n_estimators': 402, 'max_depth': 47}. Best is trial 9 with value: 0.6804757552474776.\u001b[0m\n",
      "\u001b[32m[I 2024-09-08 21:12:41,142]\u001b[0m Trial 7 finished with value: 0.6797258939396164 and parameters: {'n_estimators': 577, 'max_depth': 49}. Best is trial 9 with value: 0.6804757552474776.\u001b[0m\n",
      "\u001b[32m[I 2024-09-08 21:12:56,261]\u001b[0m Trial 14 finished with value: 0.6786315601382663 and parameters: {'n_estimators': 288, 'max_depth': 23}. Best is trial 9 with value: 0.6804757552474776.\u001b[0m\n",
      "\u001b[32m[I 2024-09-08 21:13:03,072]\u001b[0m Trial 11 finished with value: 0.6805403550700178 and parameters: {'n_estimators': 400, 'max_depth': 29}. Best is trial 11 with value: 0.6805403550700178.\u001b[0m\n",
      "\u001b[32m[I 2024-09-08 21:13:04,137]\u001b[0m Trial 12 finished with value: 0.6791324311244056 and parameters: {'n_estimators': 420, 'max_depth': 23}. Best is trial 11 with value: 0.6805403550700178.\u001b[0m\n",
      "\u001b[32m[I 2024-09-08 21:13:06,896]\u001b[0m Trial 19 finished with value: 0.6249829538704136 and parameters: {'n_estimators': 23, 'max_depth': 10}. Best is trial 11 with value: 0.6805403550700178.\u001b[0m\n",
      "\u001b[32m[I 2024-09-08 21:13:17,142]\u001b[0m Trial 1 finished with value: 0.6797702927240121 and parameters: {'n_estimators': 769, 'max_depth': 36}. Best is trial 11 with value: 0.6805403550700178.\u001b[0m\n",
      "\u001b[32m[I 2024-09-08 21:13:17,266]\u001b[0m Trial 5 finished with value: 0.6798195217251928 and parameters: {'n_estimators': 748, 'max_depth': 43}. Best is trial 11 with value: 0.6805403550700178.\u001b[0m\n",
      "\u001b[32m[I 2024-09-08 21:13:21,856]\u001b[0m Trial 17 finished with value: 0.6814317483773344 and parameters: {'n_estimators': 130, 'max_depth': 59}. Best is trial 17 with value: 0.6814317483773344.\u001b[0m\n",
      "\u001b[32m[I 2024-09-08 21:13:33,241]\u001b[0m Trial 22 finished with value: 0.6818629111600621 and parameters: {'n_estimators': 80, 'max_depth': 57}. Best is trial 22 with value: 0.6818629111600621.\u001b[0m\n",
      "\u001b[32m[I 2024-09-08 21:13:34,753]\u001b[0m Trial 23 finished with value: 0.6810748846191378 and parameters: {'n_estimators': 65, 'max_depth': 63}. Best is trial 22 with value: 0.6818629111600621.\u001b[0m\n",
      "\u001b[32m[I 2024-09-08 21:13:35,318]\u001b[0m Trial 24 finished with value: 0.646292112685968 and parameters: {'n_estimators': 10, 'max_depth': 62}. Best is trial 22 with value: 0.6818629111600621.\u001b[0m\n",
      "\u001b[32m[I 2024-09-08 21:13:38,181]\u001b[0m Trial 0 finished with value: 0.6798468809340097 and parameters: {'n_estimators': 880, 'max_depth': 36}. Best is trial 22 with value: 0.6818629111600621.\u001b[0m\n",
      "\u001b[32m[I 2024-09-08 21:13:38,678]\u001b[0m Trial 21 finished with value: 0.6819157963262557 and parameters: {'n_estimators': 108, 'max_depth': 62}. Best is trial 21 with value: 0.6819157963262557.\u001b[0m\n",
      "\u001b[32m[I 2024-09-08 21:13:41,784]\u001b[0m Trial 13 finished with value: 0.6799985121220211 and parameters: {'n_estimators': 545, 'max_depth': 42}. Best is trial 21 with value: 0.6819157963262557.\u001b[0m\n",
      "\u001b[32m[I 2024-09-08 21:13:48,745]\u001b[0m Trial 10 finished with value: 0.6785187288970661 and parameters: {'n_estimators': 710, 'max_depth': 22}. Best is trial 21 with value: 0.6819157963262557.\u001b[0m\n",
      "\u001b[32m[I 2024-09-08 21:14:00,190]\u001b[0m Trial 25 finished with value: 0.6816321014586351 and parameters: {'n_estimators': 127, 'max_depth': 58}. Best is trial 21 with value: 0.6819157963262557.\u001b[0m\n",
      "\u001b[32m[I 2024-09-08 21:14:07,028]\u001b[0m Trial 26 finished with value: 0.6795781098287075 and parameters: {'n_estimators': 158, 'max_depth': 55}. Best is trial 21 with value: 0.6819157963262557.\u001b[0m\n",
      "\u001b[32m[I 2024-09-08 21:14:10,198]\u001b[0m Trial 27 finished with value: 0.6795318704453744 and parameters: {'n_estimators': 160, 'max_depth': 55}. Best is trial 21 with value: 0.6819157963262557.\u001b[0m\n",
      "\u001b[32m[I 2024-09-08 21:14:10,635]\u001b[0m Trial 28 finished with value: 0.6796290714852462 and parameters: {'n_estimators': 159, 'max_depth': 55}. Best is trial 21 with value: 0.6819157963262557.\u001b[0m\n",
      "\u001b[32m[I 2024-09-08 21:14:15,981]\u001b[0m Trial 29 finished with value: 0.6795851593685692 and parameters: {'n_estimators': 167, 'max_depth': 54}. Best is trial 21 with value: 0.6819157963262557.\u001b[0m\n",
      "\u001b[32m[I 2024-09-08 21:14:21,390]\u001b[0m Trial 30 finished with value: 0.6795297051027299 and parameters: {'n_estimators': 159, 'max_depth': 56}. Best is trial 21 with value: 0.6819157963262557.\u001b[0m\n",
      "\u001b[32m[I 2024-09-08 21:14:34,948]\u001b[0m Trial 31 finished with value: 0.6799194250849684 and parameters: {'n_estimators': 171, 'max_depth': 55}. Best is trial 21 with value: 0.6819157963262557.\u001b[0m\n",
      "\u001b[32m[I 2024-09-08 21:14:37,564]\u001b[0m Trial 36 finished with value: 0.6812833292314304 and parameters: {'n_estimators': 81, 'max_depth': 60}. Best is trial 21 with value: 0.6819157963262557.\u001b[0m\n",
      "\u001b[32m[I 2024-09-08 21:14:44,723]\u001b[0m Trial 18 finished with value: 0.6497617281841503 and parameters: {'n_estimators': 812, 'max_depth': 11}. Best is trial 21 with value: 0.6819157963262557.\u001b[0m\n",
      "\u001b[32m[I 2024-09-08 21:14:46,655]\u001b[0m Trial 32 finished with value: 0.6805992673839396 and parameters: {'n_estimators': 196, 'max_depth': 55}. Best is trial 21 with value: 0.6819157963262557.\u001b[0m\n",
      "\u001b[32m[I 2024-09-08 21:14:48,443]\u001b[0m Trial 33 finished with value: 0.6800161005853831 and parameters: {'n_estimators': 188, 'max_depth': 55}. Best is trial 21 with value: 0.6819157963262557.\u001b[0m\n",
      "\u001b[32m[I 2024-09-08 21:14:49,377]\u001b[0m Trial 37 finished with value: 0.6815508648642685 and parameters: {'n_estimators': 72, 'max_depth': 59}. Best is trial 21 with value: 0.6819157963262557.\u001b[0m\n",
      "\u001b[32m[I 2024-09-08 21:14:55,393]\u001b[0m Trial 34 finished with value: 0.6801648001265688 and parameters: {'n_estimators': 222, 'max_depth': 58}. Best is trial 21 with value: 0.6819157963262557.\u001b[0m\n",
      "\u001b[32m[I 2024-09-08 21:14:58,460]\u001b[0m Trial 35 finished with value: 0.6802151231748039 and parameters: {'n_estimators': 212, 'max_depth': 59}. Best is trial 21 with value: 0.6819157963262557.\u001b[0m\n",
      "\u001b[32m[I 2024-09-08 21:15:04,152]\u001b[0m Trial 40 finished with value: 0.6822000662569779 and parameters: {'n_estimators': 90, 'max_depth': 59}. Best is trial 40 with value: 0.6822000662569779.\u001b[0m\n",
      "\u001b[32m[I 2024-09-08 21:15:11,637]\u001b[0m Trial 15 finished with value: 0.6804066618119028 and parameters: {'n_estimators': 937, 'max_depth': 52}. Best is trial 40 with value: 0.6822000662569779.\u001b[0m\n",
      "\u001b[32m[I 2024-09-08 21:15:13,263]\u001b[0m Trial 44 finished with value: 0.6801010257471194 and parameters: {'n_estimators': 76, 'max_depth': 51}. Best is trial 40 with value: 0.6822000662569779.\u001b[0m\n",
      "\u001b[32m[I 2024-09-08 21:15:14,313]\u001b[0m Trial 16 finished with value: 0.6759547095527477 and parameters: {'n_estimators': 935, 'max_depth': 17}. Best is trial 40 with value: 0.6822000662569779.\u001b[0m\n",
      "\u001b[32m[I 2024-09-08 21:15:16,521]\u001b[0m Trial 45 finished with value: 0.6798351905004737 and parameters: {'n_estimators': 64, 'max_depth': 50}. Best is trial 40 with value: 0.6822000662569779.\u001b[0m\n",
      "\u001b[32m[I 2024-09-08 21:15:22,505]\u001b[0m Trial 38 finished with value: 0.6803714986265644 and parameters: {'n_estimators': 229, 'max_depth': 49}. Best is trial 40 with value: 0.6822000662569779.\u001b[0m\n",
      "\u001b[32m[I 2024-09-08 21:15:28,410]\u001b[0m Trial 46 finished with value: 0.681069825886339 and parameters: {'n_estimators': 85, 'max_depth': 46}. Best is trial 40 with value: 0.6822000662569779.\u001b[0m\n",
      "\u001b[32m[I 2024-09-08 21:15:34,095]\u001b[0m Trial 47 finished with value: 0.6814011325979077 and parameters: {'n_estimators': 105, 'max_depth': 47}. Best is trial 40 with value: 0.6822000662569779.\u001b[0m\n",
      "\u001b[32m[I 2024-09-08 21:15:38,545]\u001b[0m Trial 42 finished with value: 0.680464863400141 and parameters: {'n_estimators': 253, 'max_depth': 59}. Best is trial 40 with value: 0.6822000662569779.\u001b[0m\n",
      "\u001b[32m[I 2024-09-08 21:15:41,807]\u001b[0m Trial 50 finished with value: 0.6825866983696753 and parameters: {'n_estimators': 98, 'max_depth': 64}. Best is trial 50 with value: 0.6825866983696753.\u001b[0m\n",
      "\u001b[32m[I 2024-09-08 21:15:51,108]\u001b[0m Trial 51 finished with value: 0.6813002790349414 and parameters: {'n_estimators': 117, 'max_depth': 64}. Best is trial 50 with value: 0.6825866983696753.\u001b[0m\n",
      "\u001b[32m[I 2024-09-08 21:15:53,284]\u001b[0m Trial 20 finished with value: 0.6800247484328366 and parameters: {'n_estimators': 843, 'max_depth': 62}. Best is trial 50 with value: 0.6825866983696753.\u001b[0m\n",
      "\u001b[32m[I 2024-09-08 21:16:03,971]\u001b[0m Trial 48 finished with value: 0.680399573507844 and parameters: {'n_estimators': 255, 'max_depth': 46}. Best is trial 50 with value: 0.6825866983696753.\u001b[0m\n",
      "\u001b[32m[I 2024-09-08 21:16:05,668]\u001b[0m Trial 49 finished with value: 0.6800615476823542 and parameters: {'n_estimators': 252, 'max_depth': 46}. Best is trial 50 with value: 0.6825866983696753.\u001b[0m\n",
      "\u001b[32m[I 2024-09-08 21:16:40,712]\u001b[0m Trial 52 finished with value: 0.6802456084543645 and parameters: {'n_estimators': 341, 'max_depth': 62}. Best is trial 50 with value: 0.6825866983696753.\u001b[0m\n",
      "\u001b[32m[I 2024-09-08 21:16:41,743]\u001b[0m Trial 53 finished with value: 0.6800795072803572 and parameters: {'n_estimators': 324, 'max_depth': 63}. Best is trial 50 with value: 0.6825866983696753.\u001b[0m\n",
      "\u001b[32m[I 2024-09-08 21:16:46,648]\u001b[0m Trial 54 finished with value: 0.6798567607340481 and parameters: {'n_estimators': 330, 'max_depth': 63}. Best is trial 50 with value: 0.6825866983696753.\u001b[0m\n",
      "\u001b[32m[I 2024-09-08 21:16:48,911]\u001b[0m Trial 60 finished with value: 0.677827153805338 and parameters: {'n_estimators': 35, 'max_depth': 58}. Best is trial 50 with value: 0.6825866983696753.\u001b[0m\n",
      "\u001b[32m[I 2024-09-08 21:16:51,334]\u001b[0m Trial 61 finished with value: 0.6705140897741152 and parameters: {'n_estimators': 23, 'max_depth': 57}. Best is trial 50 with value: 0.6825866983696753.\u001b[0m\n",
      "\u001b[32m[I 2024-09-08 21:16:52,661]\u001b[0m Trial 55 finished with value: 0.6801503154178481 and parameters: {'n_estimators': 313, 'max_depth': 61}. Best is trial 50 with value: 0.6825866983696753.\u001b[0m\n",
      "\u001b[32m[I 2024-09-08 21:17:00,596]\u001b[0m Trial 56 finished with value: 0.6799974844300061 and parameters: {'n_estimators': 348, 'max_depth': 32}. Best is trial 50 with value: 0.6825866983696753.\u001b[0m\n",
      "\u001b[32m[I 2024-09-08 21:17:10,001]\u001b[0m Trial 58 finished with value: 0.6798632904720378 and parameters: {'n_estimators': 328, 'max_depth': 61}. Best is trial 50 with value: 0.6825866983696753.\u001b[0m\n",
      "\u001b[32m[I 2024-09-08 21:17:11,966]\u001b[0m Trial 57 finished with value: 0.6799677229712108 and parameters: {'n_estimators': 348, 'max_depth': 37}. Best is trial 50 with value: 0.6825866983696753.\u001b[0m\n",
      "\u001b[32m[I 2024-09-08 21:17:12,746]\u001b[0m Trial 62 finished with value: 0.6798879982546595 and parameters: {'n_estimators': 126, 'max_depth': 31}. Best is trial 50 with value: 0.6825866983696753.\u001b[0m\n",
      "\u001b[32m[I 2024-09-08 21:17:15,966]\u001b[0m Trial 64 finished with value: 0.6822073563183115 and parameters: {'n_estimators': 121, 'max_depth': 52}. Best is trial 50 with value: 0.6825866983696753.\u001b[0m\n",
      "\u001b[32m[I 2024-09-08 21:17:23,320]\u001b[0m Trial 68 finished with value: 0.6797835085113808 and parameters: {'n_estimators': 53, 'max_depth': 52}. Best is trial 50 with value: 0.6825866983696753.\u001b[0m\n",
      "\u001b[32m[I 2024-09-08 21:17:34,129]\u001b[0m Trial 67 finished with value: 0.6814295185970904 and parameters: {'n_estimators': 113, 'max_depth': 64}. Best is trial 50 with value: 0.6825866983696753.\u001b[0m\n",
      "\u001b[32m[I 2024-09-08 21:17:46,660]\u001b[0m Trial 70 finished with value: 0.6817341552135956 and parameters: {'n_estimators': 121, 'max_depth': 64}. Best is trial 50 with value: 0.6825866983696753.\u001b[0m\n",
      "\u001b[32m[I 2024-09-08 21:17:55,429]\u001b[0m Trial 39 finished with value: 0.6803084104450636 and parameters: {'n_estimators': 979, 'max_depth': 51}. Best is trial 50 with value: 0.6825866983696753.\u001b[0m\n",
      "\u001b[32m[I 2024-09-08 21:17:57,254]\u001b[0m Trial 41 finished with value: 0.6802745543387914 and parameters: {'n_estimators': 969, 'max_depth': 59}. Best is trial 50 with value: 0.6825866983696753.\u001b[0m\n",
      "\u001b[32m[I 2024-09-08 21:18:02,647]\u001b[0m Trial 43 finished with value: 0.6801404583265773 and parameters: {'n_estimators': 963, 'max_depth': 51}. Best is trial 50 with value: 0.6825866983696753.\u001b[0m\n",
      "\u001b[32m[I 2024-09-08 21:18:15,662]\u001b[0m Trial 59 finished with value: 0.6795173273191362 and parameters: {'n_estimators': 488, 'max_depth': 35}. Best is trial 50 with value: 0.6825866983696753.\u001b[0m\n",
      "\u001b[32m[I 2024-09-08 21:18:25,493]\u001b[0m Trial 74 finished with value: 0.6799594716398384 and parameters: {'n_estimators': 142, 'max_depth': 61}. Best is trial 50 with value: 0.6825866983696753.\u001b[0m\n",
      "\u001b[32m[I 2024-09-08 21:18:27,017]\u001b[0m Trial 63 finished with value: 0.6802364913767657 and parameters: {'n_estimators': 487, 'max_depth': 52}. Best is trial 50 with value: 0.6825866983696753.\u001b[0m\n",
      "\u001b[32m[I 2024-09-08 21:18:34,249]\u001b[0m Trial 77 finished with value: 0.6767221650951681 and parameters: {'n_estimators': 43, 'max_depth': 57}. Best is trial 50 with value: 0.6825866983696753.\u001b[0m\n",
      "\u001b[32m[I 2024-09-08 21:18:41,533]\u001b[0m Trial 66 finished with value: 0.6801177233683187 and parameters: {'n_estimators': 466, 'max_depth': 53}. Best is trial 50 with value: 0.6825866983696753.\u001b[0m\n",
      "\u001b[32m[I 2024-09-08 21:19:17,036]\u001b[0m Trial 65 finished with value: 0.6797947036408513 and parameters: {'n_estimators': 696, 'max_depth': 52}. Best is trial 50 with value: 0.6825866983696753.\u001b[0m\n",
      "\u001b[32m[I 2024-09-08 21:19:25,615]\u001b[0m Trial 72 finished with value: 0.6799945705480722 and parameters: {'n_estimators': 504, 'max_depth': 53}. Best is trial 50 with value: 0.6825866983696753.\u001b[0m\n",
      "\u001b[32m[I 2024-09-08 21:19:28,987]\u001b[0m Trial 69 finished with value: 0.6799914994493449 and parameters: {'n_estimators': 678, 'max_depth': 53}. Best is trial 50 with value: 0.6825866983696753.\u001b[0m\n",
      "\u001b[32m[I 2024-09-08 21:19:38,062]\u001b[0m Trial 75 finished with value: 0.680079771453167 and parameters: {'n_estimators': 486, 'max_depth': 53}. Best is trial 50 with value: 0.6825866983696753.\u001b[0m\n",
      "\u001b[32m[I 2024-09-08 21:19:44,249]\u001b[0m Trial 82 finished with value: 0.6824667632953954 and parameters: {'n_estimators': 96, 'max_depth': 57}. Best is trial 50 with value: 0.6825866983696753.\u001b[0m\n",
      "\u001b[32m[I 2024-09-08 21:19:45,294]\u001b[0m Trial 71 finished with value: 0.6800658042407178 and parameters: {'n_estimators': 671, 'max_depth': 53}. Best is trial 50 with value: 0.6825866983696753.\u001b[0m\n",
      "\u001b[32m[I 2024-09-08 21:19:47,658]\u001b[0m Trial 83 finished with value: 0.6810792387992682 and parameters: {'n_estimators': 97, 'max_depth': 40}. Best is trial 50 with value: 0.6825866983696753.\u001b[0m\n",
      "\u001b[32m[I 2024-09-08 21:19:56,968]\u001b[0m Trial 84 finished with value: 0.6810792387992682 and parameters: {'n_estimators': 97, 'max_depth': 40}. Best is trial 50 with value: 0.6825866983696753.\u001b[0m\n",
      "\u001b[32m[I 2024-09-08 21:20:02,675]\u001b[0m Trial 73 finished with value: 0.680051613225984 and parameters: {'n_estimators': 650, 'max_depth': 53}. Best is trial 50 with value: 0.6825866983696753.\u001b[0m\n",
      "\u001b[32m[I 2024-09-08 21:20:03,127]\u001b[0m Trial 85 finished with value: 0.6824667632953954 and parameters: {'n_estimators': 96, 'max_depth': 57}. Best is trial 50 with value: 0.6825866983696753.\u001b[0m\n",
      "\u001b[32m[I 2024-09-08 21:20:04,656]\u001b[0m Trial 86 finished with value: 0.6828623316291178 and parameters: {'n_estimators': 98, 'max_depth': 57}. Best is trial 86 with value: 0.6828623316291178.\u001b[0m\n",
      "\u001b[32m[I 2024-09-08 21:20:22,638]\u001b[0m Trial 76 finished with value: 0.6801093964549147 and parameters: {'n_estimators': 649, 'max_depth': 57}. Best is trial 86 with value: 0.6828623316291178.\u001b[0m\n",
      "\u001b[32m[I 2024-09-08 21:20:25,378]\u001b[0m Trial 87 finished with value: 0.6801817869587563 and parameters: {'n_estimators': 192, 'max_depth': 57}. Best is trial 86 with value: 0.6828623316291178.\u001b[0m\n",
      "\u001b[32m[I 2024-09-08 21:20:34,670]\u001b[0m Trial 88 finished with value: 0.6801195199883908 and parameters: {'n_estimators': 190, 'max_depth': 57}. Best is trial 86 with value: 0.6828623316291178.\u001b[0m\n",
      "\u001b[32m[I 2024-09-08 21:20:38,956]\u001b[0m Trial 89 finished with value: 0.6801342245939459 and parameters: {'n_estimators': 183, 'max_depth': 57}. Best is trial 86 with value: 0.6828623316291178.\u001b[0m\n",
      "\u001b[32m[I 2024-09-08 21:20:40,143]\u001b[0m Trial 90 finished with value: 0.6801306248906445 and parameters: {'n_estimators': 185, 'max_depth': 57}. Best is trial 86 with value: 0.6828623316291178.\u001b[0m\n",
      "\u001b[32m[I 2024-09-08 21:20:40,473]\u001b[0m Trial 78 finished with value: 0.6799628172508774 and parameters: {'n_estimators': 682, 'max_depth': 57}. Best is trial 86 with value: 0.6828623316291178.\u001b[0m\n",
      "\u001b[32m[I 2024-09-08 21:20:41,267]\u001b[0m Trial 91 finished with value: 0.680011645992529 and parameters: {'n_estimators': 184, 'max_depth': 57}. Best is trial 86 with value: 0.6828623316291178.\u001b[0m\n",
      "\u001b[32m[I 2024-09-08 21:20:48,700]\u001b[0m Trial 79 finished with value: 0.6799279147354998 and parameters: {'n_estimators': 689, 'max_depth': 64}. Best is trial 86 with value: 0.6828623316291178.\u001b[0m\n",
      "\u001b[32m[I 2024-09-08 21:20:50,550]\u001b[0m Trial 92 finished with value: 0.6802872564795341 and parameters: {'n_estimators': 141, 'max_depth': 60}. Best is trial 86 with value: 0.6828623316291178.\u001b[0m\n",
      "\u001b[32m[I 2024-09-08 21:20:50,738]\u001b[0m Trial 97 finished with value: 0.6792944224239713 and parameters: {'n_estimators': 53, 'max_depth': 61}. Best is trial 86 with value: 0.6828623316291178.\u001b[0m\n",
      "\u001b[32m[I 2024-09-08 21:20:54,360]\u001b[0m Trial 93 finished with value: 0.6799783943057532 and parameters: {'n_estimators': 150, 'max_depth': 61}. Best is trial 86 with value: 0.6828623316291178.\u001b[0m\n",
      "\u001b[32m[I 2024-09-08 21:20:55,145]\u001b[0m Trial 80 finished with value: 0.6795140006169869 and parameters: {'n_estimators': 692, 'max_depth': 40}. Best is trial 86 with value: 0.6828623316291178.\u001b[0m\n",
      "\u001b[32m[I 2024-09-08 21:21:00,622]\u001b[0m Trial 94 finished with value: 0.6799096846312571 and parameters: {'n_estimators': 145, 'max_depth': 60}. Best is trial 86 with value: 0.6828623316291178.\u001b[0m\n",
      "\u001b[32m[I 2024-09-08 21:21:03,417]\u001b[0m Trial 95 finished with value: 0.6802872564795341 and parameters: {'n_estimators': 141, 'max_depth': 60}. Best is trial 86 with value: 0.6828623316291178.\u001b[0m\n",
      "\u001b[32m[I 2024-09-08 21:21:04,534]\u001b[0m Trial 96 finished with value: 0.6799734122828599 and parameters: {'n_estimators': 143, 'max_depth': 61}. Best is trial 86 with value: 0.6828623316291178.\u001b[0m\n",
      "\u001b[32m[I 2024-09-08 21:21:05,376]\u001b[0m Trial 98 finished with value: 0.6799992844517643 and parameters: {'n_estimators': 143, 'max_depth': 60}. Best is trial 86 with value: 0.6828623316291178.\u001b[0m\n",
      "\u001b[32m[I 2024-09-08 21:21:10,451]\u001b[0m Trial 99 finished with value: 0.6802872564795341 and parameters: {'n_estimators': 141, 'max_depth': 60}. Best is trial 86 with value: 0.6828623316291178.\u001b[0m\n",
      "\u001b[32m[I 2024-09-08 21:21:11,415]\u001b[0m Trial 81 finished with value: 0.679795844354363 and parameters: {'n_estimators': 620, 'max_depth': 57}. Best is trial 86 with value: 0.6828623316291178.\u001b[0m\n"
     ]
    },
    {
     "data": {
      "text/plain": [
       "{'n_estimators': 98, 'max_depth': 57}"
      ]
     },
     "execution_count": 3,
     "metadata": {},
     "output_type": "execute_result"
    }
   ],
   "source": [
    "\n",
    "def objective(trial):\n",
    "    n_estimators = trial.suggest_int('n_estimators', 10, 1000)\n",
    "    max_depth = trial.suggest_int('max_depth', 10, 64)\n",
    "    reg = RandomForestRegressor(n_estimators=n_estimators, max_depth=max_depth, random_state=0)\n",
    "    # Cross-validation\n",
    "    r2 = cross_val_score(reg, X_train, y_train, cv=5, scoring='r2').mean()\n",
    "    return r2\n",
    "\n",
    "study = optuna.create_study(direction='maximize', sampler=TPESampler(), study_name='RandomForest')\n",
    "study.optimize(objective, n_trials=100, n_jobs=-1)\n",
    "study.best_params"
   ]
  },
  {
   "cell_type": "code",
   "execution_count": 26,
   "metadata": {},
   "outputs": [],
   "source": [
    "# Cross-validation using several metrics:\n",
    "from sklearn.model_selection import RepeatedKFold\n",
    "rkf = RepeatedKFold(n_splits=10, n_repeats=1)\n",
    "nrmse_, r2_, mse_, rmse_, pcc_ = [], [], [], [], []\n",
    "for train_index, test_index in rkf.split(X_train):\n",
    "    x_train_, x_val = X_train.iloc[train_index], X_train.iloc[test_index]\n",
    "    y_train_, y_val = y_train[train_index], y_train[test_index]\n",
    "    reg = RandomForestRegressor(n_estimators=100, max_depth=60, random_state=0)\n",
    "    reg.fit(x_train_, y_train_)\n",
    "    y_pred = reg.predict(x_val)\n",
    "    nrmse, r2, mse, rmse = nRMSE(y_val, y_pred)\n",
    "    pcc = np.corrcoef(y_val, y_pred)[0, 1]\n",
    "    nrmse_.append(nrmse)\n",
    "    r2_.append(r2)\n",
    "    mse_.append(mse)\n",
    "    rmse_.append(rmse)\n",
    "    pcc_.append(pcc)\n",
    "    "
   ]
  },
  {
   "cell_type": "code",
   "execution_count": 31,
   "metadata": {},
   "outputs": [
    {
     "name": "stdout",
     "output_type": "stream",
     "text": [
      "Cross-Validated Results on the Training Set [RandomForest]\n",
      "nRMSE: 0.539\n",
      "R2: 0.708\n",
      "MSE: 0.285\n",
      "RMSE: 0.533\n",
      "PCC: 0.845\n",
      "Test Set Results [RandomForest]\n",
      "nRMSE: 0.507\n",
      "R2: 0.742\n",
      "MSE: 0.255\n",
      "RMSE: 0.505\n",
      "PCC: 0.869\n"
     ]
    },
    {
     "data": {
      "image/png": "[encoded data removed]",
      "text/plain": [
       "<Figure size 720x720 with 1 Axes>"
      ]
     },
     "metadata": {
      "needs_background": "light"
     },
     "output_type": "display_data"
    }
   ],
   "source": [
    "nrmse_mean = np.mean(nrmse_)\n",
    "r2_mean = np.mean(r2_)\n",
    "mse_mean = np.mean(mse_)\n",
    "rmse_mean = np.mean(rmse_)\n",
    "pcc_mean = np.mean(pcc_)\n",
    "\n",
    "print('Cross-Validated Results on the Training Set [RandomForest]')\n",
    "print(f\"nRMSE: {nrmse_mean:.3f}\")\n",
    "print(f\"R2: {r2_mean:.3f}\")\n",
    "print(f\"MSE: {mse_mean:.3f}\")\n",
    "print(f\"RMSE: {rmse_mean:.3f}\")\n",
    "print(f\"PCC: {pcc_mean:.3f}\")\n",
    "\n",
    "# Test set:\n",
    "reg = RandomForestRegressor(n_estimators=100, max_depth=60, random_state=0)\n",
    "reg.fit(X_train, y_train)\n",
    "y_pred = reg.predict(x_test)\n",
    "nrmse, r2, mse, rmse = nRMSE(y_test, y_pred)\n",
    "pcc = np.corrcoef(y_test, y_pred)[0, 1]\n",
    "\n",
    "print('Test Set Results [RandomForest]')\n",
    "print(f\"nRMSE: {nrmse:.3f}\")\n",
    "print(f\"R2: {r2:.3f}\")\n",
    "print(f\"MSE: {mse:.3f}\")\n",
    "print(f\"RMSE: {rmse:.3f}\")\n",
    "print(f\"PCC: {pcc:.3f}\")\n",
    "\n",
    "# Plot predictions vs true values\n",
    "plt.figure(figsize=(10, 10))\n",
    "plt.plot(y_test, y_pred, 'kx', markersize=8)\n",
    "# Plot line\n",
    "plt.plot([min(y_test), max(y_test)], [min(y_test), max(y_test)], color='red')\n",
    "plt.xlabel('True Values')\n",
    "plt.ylabel('Predictions')\n",
    "plt.title('Random Forest Regressor')\n",
    "\n",
    "# Create figures folder\n",
    "if not os.path.exists('figures'):\n",
    "    os.makedirs('figures')\n",
    "plt.savefig('figures/rf_regression_plot.png')\n",
    "plt.show()"
   ]
  },
  {
   "cell_type": "markdown",
   "metadata": {},
   "source": [
    "## Xgboost Regressor"
   ]
  },
  {
   "cell_type": "code",
   "execution_count": 34,
   "metadata": {},
   "outputs": [
    {
     "name": "stderr",
     "output_type": "stream",
     "text": [
      "\u001b[32m[I 2024-09-08 21:44:01,347]\u001b[0m A new study created in memory with name: XGBoost\u001b[0m\n",
      "/Users/cesarasa/miniconda3/envs/torch-gpu/lib/python3.8/site-packages/optuna/study/study.py:393: FutureWarning: `n_jobs` argument has been deprecated in v2.7.0. This feature will be removed in v4.0.0. See https://github.com/optuna/optuna/releases/tag/v2.7.0.\n",
      "  warnings.warn(\n"
     ]
    }
   ],
   "source": [
    "# Optuna study for the XGBOOST regressor\n",
    "def optimize(trial):\n",
    "    n_estimators = trial.suggest_int('n_estimators', 10, 1000)\n",
    "    max_depth = trial.suggest_int('max_depth', 10, 64)\n",
    "    learning_rate = trial.suggest_loguniform('learning_rate', 1e-5, 1e-1)\n",
    "    reg = xgb.XGBRegressor(n_estimators=n_estimators, max_depth=max_depth, learning_rate=learning_rate)\n",
    "    # Cross-validation\n",
    "    r2 = cross_val_score(reg, X_train, y_train, cv=5, scoring='r2').mean()\n",
    "    return r2\n",
    "\n",
    "study2 = optuna.create_study(direction='maximize', sampler=TPESampler(), study_name='XGBoost')\n",
    "study2.optimize(optimize, n_trials=100, n_jobs=-1)\n",
    "study2.best_params"
   ]
  }
 ],
 "metadata": {
  "kernelspec": {
   "display_name": "torch-gpu",
   "language": "python",
   "name": "python3"
  },
  "language_info": {
   "codemirror_mode": {
    "name": "ipython",
    "version": 3
   },
   "file_extension": ".py",
   "mimetype": "text/x-python",
   "name": "python",
   "nbconvert_exporter": "python",
   "pygments_lexer": "ipython3",
   "version": "3.8.13"
  }
 },
 "nbformat": 4,
 "nbformat_minor": 2
}
