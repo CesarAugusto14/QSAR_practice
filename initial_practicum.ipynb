{
 "cells": [
  {
   "cell_type": "code",
   "execution_count": 53,
   "metadata": {},
   "outputs": [],
   "source": [
    "import os\n",
    "import deepchem as dc\n",
    "import pandas as pd\n",
    "\n",
    "# Compute Tanimoto similarity matrix\n",
    "from rdkit import Chem\n",
    "from rdkit.Chem import AllChem\n",
    "from rdkit import DataStructs\n",
    "import numpy as np\n",
    "\n",
    "from utils import get_similarity"
   ]
  },
  {
   "cell_type": "markdown",
   "metadata": {},
   "source": [
    "# Studying Ways of visualization and featurization of SMILES strings"
   ]
  },
  {
   "cell_type": "code",
   "execution_count": 54,
   "metadata": {},
   "outputs": [],
   "source": [
    "# Load BACE regression dataset\n",
    "bace_tasks, bace_datasets, transformers = dc.molnet.load_bace_regression(featurizer='ECFP')"
   ]
  },
  {
   "cell_type": "code",
   "execution_count": 72,
   "metadata": {},
   "outputs": [],
   "source": [
    "# Create a DataFrame \n",
    "smiles = bace_datasets[0].ids.tolist()\n",
    "targets = bace_datasets[0].y\n",
    "fingerprints = bace_datasets[0].X"
   ]
  },
  {
   "cell_type": "markdown",
   "metadata": {},
   "source": [
    "## A simple Model:"
   ]
  },
  {
   "cell_type": "code",
   "execution_count": 56,
   "metadata": {},
   "outputs": [],
   "source": [
    "similarity_matrix, fingerprints, mols = get_similarity(smiles)\n",
    "df = pd.DataFrame(similarity_matrix, index=smiles, columns=smiles)\n"
   ]
  },
  {
   "cell_type": "code",
   "execution_count": 58,
   "metadata": {},
   "outputs": [],
   "source": [
    "# List the 10 closest pairs, their similarity and their targets, save them to a df\n",
    "closest_pairs = []\n",
    "for i in range(len(smiles)):\n",
    "    for j in range(i+1, len(smiles)):\n",
    "        closest_pairs.append((smiles[i], smiles[j], similarity_matrix[i, j], targets[i], targets[j]))\n",
    "        \n",
    "closest_pairs = sorted(closest_pairs, key=lambda x: x[2], reverse=True)\n",
    "# closest_pairs = closest_pairs[:50]\n",
    "closest_pairs = pd.DataFrame(closest_pairs, columns=['SMILES 1', 'SMILES 2', 'Similarity', 'Target 1', 'Target 2'])\n",
    "# List of Similarity values\n",
    "closest_pairs.to_csv('./data/closest_pairs.csv', index=False)\n",
    "# # Save the Similarity DataFrame\n",
    "df.to_csv('./data/similarity_matrix.csv')"
   ]
  },
  {
   "cell_type": "code",
   "execution_count": 76,
   "metadata": {},
   "outputs": [
    {
     "name": "stdout",
     "output_type": "stream",
     "text": [
      "CC1=CC(=O)c2ccccc2C1=O\n"
     ]
    }
   ],
   "source": [
    "smile = 'CC1=CC(=O)C2=C(C1=O)C=CC=C2'\n",
    "mol = Chem.MolFromSmiles(smiles)\n",
    "\n",
    "# Canonicalize the molecule\n",
    "mol2 = Chem.Mol(mol.ToBinary())\n",
    "mol2 = Chem.RemoveHs(mol)\n",
    "mol2 = Chem.MolFromSmiles(Chem.MolToSmiles(mol))\n",
    "print(Chem.MolToSmiles(mol))\n"
   ]
  },
  {
   "cell_type": "code",
   "execution_count": 80,
   "metadata": {},
   "outputs": [
    {
     "data": {
      "image/png": "[encoded data removed]",
      "text/plain": [
       "<rdkit.Chem.rdchem.Mol at 0x35d7fd120>"
      ]
     },
     "execution_count": 80,
     "metadata": {},
     "output_type": "execute_result"
    }
   ],
   "source": [
    "mol2"
   ]
  }
 ],
 "metadata": {
  "kernelspec": {
   "display_name": "Python 3",
   "language": "python",
   "name": "python3"
  },
  "language_info": {
   "codemirror_mode": {
    "name": "ipython",
    "version": 3
   },
   "file_extension": ".py",
   "mimetype": "text/x-python",
   "name": "python",
   "nbconvert_exporter": "python",
   "pygments_lexer": "ipython3",
   "version": "3.8.13"
  }
 },
 "nbformat": 4,
 "nbformat_minor": 2
}
