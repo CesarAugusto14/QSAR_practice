{
 "cells": [
  {
   "cell_type": "code",
   "execution_count": 32,
   "metadata": {},
   "outputs": [],
   "source": [
    "# Standard\n",
    "import os\n",
    "\n",
    "# Third-party\n",
    "import deepchem as dc\n",
    "import matplotlib.pyplot as plt\n",
    "import numpy as np\n",
    "import optuna\n",
    "import pandas as pd\n",
    "from optuna.samplers import TPESampler\n",
    "from rdkit import Chem, DataStructs\n",
    "from rdkit.Chem import AllChem\n",
    "from sklearn.linear_model import Lasso, LinearRegression, Ridge\n",
    "from sklearn.model_selection import cross_val_score\n",
    "\n",
    "# Own-coded\n",
    "from measurements import nRMSE\n",
    "from utils import get_similarity, load_bace\n",
    "\n",
    "# Make all the figures have Times New Roman font, and 16 font size\n",
    "plt.rcParams[\"font.family\"] = \"Times New Roman\"\n",
    "plt.rcParams[\"font.size\"] = 16\n"
   ]
  },
  {
   "cell_type": "markdown",
   "metadata": {},
   "source": [
    "# Studying Ways of visualization and featurization of SMILES strings"
   ]
  },
  {
   "cell_type": "code",
   "execution_count": 34,
   "metadata": {},
   "outputs": [],
   "source": [
    "featurizer = 'ECFP'\n",
    "_, bace_datasets, _ = dc.molnet.load_bace_regression(featurizer=featurizer, splitter = dc.splits.RandomSplitter())\n"
   ]
  },
  {
   "cell_type": "code",
   "execution_count": 2,
   "metadata": {},
   "outputs": [],
   "source": [
    "# Load BACE regression dataset\n",
    "df_train, df_valid, df_test = load_bace(splitter = dc.splits.RandomSplitter())\n",
    "smiles = df_train.smiles.values.tolist()\n",
    "similarity_matrix, fingerprints, mols = get_similarity(smiles)\n",
    "df = pd.DataFrame(similarity_matrix, index=smiles, columns=smiles)\n",
    "\n",
    "df_train = df_train.set_index('smiles')\n",
    "df_valid = df_valid.set_index('smiles')\n",
    "df_test = df_test.set_index('smiles')\n"
   ]
  },
  {
   "cell_type": "markdown",
   "metadata": {},
   "source": [
    "## A simple Model:"
   ]
  },
  {
   "cell_type": "code",
   "execution_count": 12,
   "metadata": {},
   "outputs": [],
   "source": [
    "# Now it's time to train a Linear Regression model with the Fingerprints\n",
    "# Let's use the Linear Regression model from sklearn\n",
    "\n",
    "# Train the model\n",
    "X = df_train.drop(columns=['targets'])\n",
    "y = df_train.targets.values\n",
    "x_valid = df_valid.drop(columns=['targets'])\n",
    "y_valid = df_valid.targets.values\n",
    "# X and x_valid are the new X_train\n",
    "# y and y_valid are the new y_train\n",
    "X_train = pd.concat([X, x_valid])\n",
    "y_train = np.concatenate([y, y_valid])\n",
    "x_test = df_test.drop(columns=['targets'])\n",
    "y_test = df_test.targets.values"
   ]
  },
  {
   "cell_type": "markdown",
   "metadata": {},
   "source": [
    "# Initial models:"
   ]
  },
  {
   "cell_type": "markdown",
   "metadata": {},
   "source": [
    "## Optuna search, Lasso:\n",
    "\n",
    "Here we will be performing hyperparameter optimization."
   ]
  },
  {
   "cell_type": "code",
   "execution_count": 8,
   "metadata": {},
   "outputs": [
    {
     "name": "stderr",
     "output_type": "stream",
     "text": [
      "\u001b[32m[I 2024-09-07 17:36:26,209]\u001b[0m A new study created in memory with name: lasso\u001b[0m\n",
      "/Users/cesarasa/miniconda3/envs/torch-gpu/lib/python3.8/site-packages/optuna/study/study.py:393: FutureWarning: `n_jobs` argument has been deprecated in v2.7.0. This feature will be removed in v4.0.0. See https://github.com/optuna/optuna/releases/tag/v2.7.0.\n",
      "  warnings.warn(\n",
      "\u001b[32m[I 2024-09-07 17:36:27,162]\u001b[0m Trial 0 finished with value: 0.24827046021128668 and parameters: {'alpha': 0.05657297653046675}. Best is trial 0 with value: 0.24827046021128668.\u001b[0m\n",
      "\u001b[32m[I 2024-09-07 17:36:27,271]\u001b[0m Trial 2 finished with value: 0.12721052547400563 and parameters: {'alpha': 0.08217403408199311}. Best is trial 0 with value: 0.24827046021128668.\u001b[0m\n",
      "\u001b[32m[I 2024-09-07 17:36:27,644]\u001b[0m Trial 5 finished with value: 0.11463022441134214 and parameters: {'alpha': 0.0867844644646895}. Best is trial 0 with value: 0.24827046021128668.\u001b[0m\n",
      "\u001b[32m[I 2024-09-07 17:36:27,821]\u001b[0m Trial 4 finished with value: 0.14274087314479172 and parameters: {'alpha': 0.07698932700073323}. Best is trial 0 with value: 0.24827046021128668.\u001b[0m\n",
      "\u001b[32m[I 2024-09-07 17:36:27,867]\u001b[0m Trial 9 finished with value: 0.4790926422870275 and parameters: {'alpha': 0.02061656331021139}. Best is trial 9 with value: 0.4790926422870275.\u001b[0m\n",
      "\u001b[32m[I 2024-09-07 17:36:28,133]\u001b[0m Trial 8 finished with value: 0.26386565823173885 and parameters: {'alpha': 0.05363679898041862}. Best is trial 9 with value: 0.4790926422870275.\u001b[0m\n",
      "\u001b[32m[I 2024-09-07 17:36:28,135]\u001b[0m Trial 6 finished with value: 0.18575417867861896 and parameters: {'alpha': 0.06812293697715391}. Best is trial 9 with value: 0.4790926422870275.\u001b[0m\n",
      "\u001b[32m[I 2024-09-07 17:36:28,140]\u001b[0m Trial 3 finished with value: 0.42866351392116997 and parameters: {'alpha': 0.025709535031423744}. Best is trial 9 with value: 0.4790926422870275.\u001b[0m\n",
      "\u001b[32m[I 2024-09-07 17:36:28,982]\u001b[0m Trial 12 finished with value: 0.13626165206582613 and parameters: {'alpha': 0.07893809429233964}. Best is trial 9 with value: 0.4790926422870275.\u001b[0m\n",
      "\u001b[32m[I 2024-09-07 17:36:29,118]\u001b[0m Trial 11 finished with value: 0.11521896760033339 and parameters: {'alpha': 0.08656286479581135}. Best is trial 9 with value: 0.4790926422870275.\u001b[0m\n",
      "\u001b[32m[I 2024-09-07 17:36:29,257]\u001b[0m Trial 1 finished with value: 0.6532329801901459 and parameters: {'alpha': 0.0053447336440710525}. Best is trial 1 with value: 0.6532329801901459.\u001b[0m\n",
      "\u001b[32m[I 2024-09-07 17:36:29,369]\u001b[0m Trial 10 finished with value: 0.3891784360539802 and parameters: {'alpha': 0.03088964046971362}. Best is trial 1 with value: 0.6532329801901459.\u001b[0m\n",
      "\u001b[32m[I 2024-09-07 17:36:29,500]\u001b[0m Trial 17 finished with value: 0.15710656332450618 and parameters: {'alpha': 0.07366172287313327}. Best is trial 1 with value: 0.6532329801901459.\u001b[0m\n",
      "\u001b[32m[I 2024-09-07 17:36:29,651]\u001b[0m Trial 16 finished with value: 0.2903929354174656 and parameters: {'alpha': 0.04844152583076297}. Best is trial 1 with value: 0.6532329801901459.\u001b[0m\n",
      "\u001b[32m[I 2024-09-07 17:36:29,660]\u001b[0m Trial 14 finished with value: 0.14972659685308845 and parameters: {'alpha': 0.07522220012020654}. Best is trial 1 with value: 0.6532329801901459.\u001b[0m\n",
      "\u001b[32m[I 2024-09-07 17:36:29,868]\u001b[0m Trial 13 finished with value: 0.18744228361341772 and parameters: {'alpha': 0.06779739465962178}. Best is trial 1 with value: 0.6532329801901459.\u001b[0m\n",
      "\u001b[32m[I 2024-09-07 17:36:30,238]\u001b[0m Trial 15 finished with value: 0.21308620108262763 and parameters: {'alpha': 0.06301904007936873}. Best is trial 1 with value: 0.6532329801901459.\u001b[0m\n",
      "\u001b[32m[I 2024-09-07 17:36:30,839]\u001b[0m Trial 7 finished with value: 0.6674139411235803 and parameters: {'alpha': 0.004153140618912834}. Best is trial 7 with value: 0.6674139411235803.\u001b[0m\n",
      "\u001b[32m[I 2024-09-07 17:36:32,237]\u001b[0m Trial 19 finished with value: 0.5923806909572115 and parameters: {'alpha': 0.010266114686776314}. Best is trial 7 with value: 0.6674139411235803.\u001b[0m\n",
      "\u001b[32m[I 2024-09-07 17:36:35,035]\u001b[0m Trial 21 finished with value: 0.6657625022946957 and parameters: {'alpha': 0.004315922103190343}. Best is trial 7 with value: 0.6674139411235803.\u001b[0m\n",
      "\u001b[32m[I 2024-09-07 17:36:35,258]\u001b[0m Trial 20 finished with value: 0.6701015703607712 and parameters: {'alpha': 0.0038864146192138837}. Best is trial 20 with value: 0.6701015703607712.\u001b[0m\n",
      "\u001b[32m[I 2024-09-07 17:36:36,150]\u001b[0m Trial 29 finished with value: 0.32210250562847287 and parameters: {'alpha': 0.0423599145825727}. Best is trial 20 with value: 0.6701015703607712.\u001b[0m\n",
      "\u001b[32m[I 2024-09-07 17:36:36,521]\u001b[0m Trial 30 finished with value: 0.08008845338340545 and parameters: {'alpha': 0.0994731604332896}. Best is trial 20 with value: 0.6701015703607712.\u001b[0m\n",
      "\u001b[32m[I 2024-09-07 17:36:37,123]\u001b[0m Trial 23 finished with value: 0.6737663135963933 and parameters: {'alpha': 0.0035531443277069556}. Best is trial 23 with value: 0.6737663135963933.\u001b[0m\n",
      "\u001b[32m[I 2024-09-07 17:36:37,515]\u001b[0m Trial 28 finished with value: 0.6583203070637511 and parameters: {'alpha': 0.004946685198495748}. Best is trial 23 with value: 0.6737663135963933.\u001b[0m\n",
      "\u001b[32m[I 2024-09-07 17:36:37,873]\u001b[0m Trial 31 finished with value: 0.5400223780071087 and parameters: {'alpha': 0.014824277046526405}. Best is trial 23 with value: 0.6737663135963933.\u001b[0m\n",
      "\u001b[32m[I 2024-09-07 17:36:38,154]\u001b[0m Trial 32 finished with value: 0.5577858735171516 and parameters: {'alpha': 0.013267721785827885}. Best is trial 23 with value: 0.6737663135963933.\u001b[0m\n",
      "\u001b[32m[I 2024-09-07 17:36:38,635]\u001b[0m Trial 34 finished with value: 0.5217707096235739 and parameters: {'alpha': 0.01645388695230896}. Best is trial 23 with value: 0.6737663135963933.\u001b[0m\n",
      "\u001b[32m[I 2024-09-07 17:36:39,071]\u001b[0m Trial 35 finished with value: 0.366488160121904 and parameters: {'alpha': 0.03446822820638657}. Best is trial 23 with value: 0.6737663135963933.\u001b[0m\n",
      "\u001b[32m[I 2024-09-07 17:36:39,123]\u001b[0m Trial 33 finished with value: 0.5451167758425699 and parameters: {'alpha': 0.014381860541324409}. Best is trial 23 with value: 0.6737663135963933.\u001b[0m\n",
      "\u001b[32m[I 2024-09-07 17:36:45,472]\u001b[0m Trial 22 finished with value: 0.6808247567120723 and parameters: {'alpha': 0.0017731753295857737}. Best is trial 22 with value: 0.6808247567120723.\u001b[0m\n",
      "\u001b[32m[I 2024-09-07 17:36:48,378]\u001b[0m Trial 18 finished with value: 0.679512472911016 and parameters: {'alpha': 0.001535916524267586}. Best is trial 22 with value: 0.6808247567120723.\u001b[0m\n",
      "\u001b[32m[I 2024-09-07 17:36:51,048]\u001b[0m Trial 39 finished with value: 0.681484088512714 and parameters: {'alpha': 0.0024070305222817596}. Best is trial 39 with value: 0.681484088512714.\u001b[0m\n",
      "\u001b[32m[I 2024-09-07 17:36:57,179]\u001b[0m Trial 27 finished with value: 0.6723464775822731 and parameters: {'alpha': 0.0011190220905851478}. Best is trial 39 with value: 0.681484088512714.\u001b[0m\n",
      "\u001b[32m[I 2024-09-07 17:36:57,214]\u001b[0m Trial 24 finished with value: 0.6716585970159887 and parameters: {'alpha': 0.0010906966090216616}. Best is trial 39 with value: 0.681484088512714.\u001b[0m\n",
      "\u001b[32m[I 2024-09-07 17:36:58,074]\u001b[0m Trial 43 finished with value: 0.4250745862239727 and parameters: {'alpha': 0.02612868169657647}. Best is trial 39 with value: 0.681484088512714.\u001b[0m\n",
      "\u001b[32m[I 2024-09-07 17:36:58,411]\u001b[0m Trial 44 finished with value: 0.4561274284176761 and parameters: {'alpha': 0.022879029636428665}. Best is trial 39 with value: 0.681484088512714.\u001b[0m\n",
      "\u001b[32m[I 2024-09-07 17:37:01,435]\u001b[0m Trial 46 finished with value: 0.6080554383305709 and parameters: {'alpha': 0.008960242550199258}. Best is trial 39 with value: 0.681484088512714.\u001b[0m\n",
      "\u001b[32m[I 2024-09-07 17:37:01,883]\u001b[0m Trial 45 finished with value: 0.6059230048068718 and parameters: {'alpha': 0.009133604143042321}. Best is trial 39 with value: 0.681484088512714.\u001b[0m\n",
      "\u001b[32m[I 2024-09-07 17:37:02,501]\u001b[0m Trial 47 finished with value: 0.49935265579633603 and parameters: {'alpha': 0.018629403128978973}. Best is trial 39 with value: 0.681484088512714.\u001b[0m\n",
      "\u001b[32m[I 2024-09-07 17:37:03,252]\u001b[0m Trial 48 finished with value: 0.49197224266505196 and parameters: {'alpha': 0.019355360858433073}. Best is trial 39 with value: 0.681484088512714.\u001b[0m\n",
      "\u001b[32m[I 2024-09-07 17:37:03,752]\u001b[0m Trial 49 finished with value: 0.351644771974642 and parameters: {'alpha': 0.036946946254999766}. Best is trial 39 with value: 0.681484088512714.\u001b[0m\n",
      "\u001b[32m[I 2024-09-07 17:37:06,631]\u001b[0m Trial 50 finished with value: 0.6099191987368027 and parameters: {'alpha': 0.008806725163475398}. Best is trial 39 with value: 0.681484088512714.\u001b[0m\n",
      "\u001b[32m[I 2024-09-07 17:37:09,327]\u001b[0m Trial 41 finished with value: 0.6781331453935703 and parameters: {'alpha': 0.0014329139436091748}. Best is trial 39 with value: 0.681484088512714.\u001b[0m\n",
      "\u001b[32m[I 2024-09-07 17:37:09,977]\u001b[0m Trial 37 finished with value: 0.6696218505681778 and parameters: {'alpha': 0.0010116646299871174}. Best is trial 39 with value: 0.681484088512714.\u001b[0m\n",
      "\u001b[32m[I 2024-09-07 17:37:10,688]\u001b[0m Trial 54 finished with value: 0.4158092415441913 and parameters: {'alpha': 0.02726920039870066}. Best is trial 39 with value: 0.681484088512714.\u001b[0m\n",
      "\u001b[32m[I 2024-09-07 17:37:11,965]\u001b[0m Trial 53 finished with value: 0.6103574206647139 and parameters: {'alpha': 0.00877088141971083}. Best is trial 39 with value: 0.681484088512714.\u001b[0m\n",
      "\u001b[32m[I 2024-09-07 17:37:12,884]\u001b[0m Trial 55 finished with value: 0.5827343647608323 and parameters: {'alpha': 0.011063752543665544}. Best is trial 39 with value: 0.681484088512714.\u001b[0m\n",
      "\u001b[32m[I 2024-09-07 17:37:20,766]\u001b[0m Trial 26 finished with value: 0.6583518013272099 and parameters: {'alpha': 0.0006870800521925156}. Best is trial 39 with value: 0.681484088512714.\u001b[0m\n",
      "\u001b[32m[I 2024-09-07 17:37:21,661]\u001b[0m Trial 42 finished with value: 0.6667161618443994 and parameters: {'alpha': 0.0009053662945645612}. Best is trial 39 with value: 0.681484088512714.\u001b[0m\n",
      "\u001b[32m[I 2024-09-07 17:37:23,565]\u001b[0m Trial 58 finished with value: 0.6434636077617035 and parameters: {'alpha': 0.006074952841283621}. Best is trial 39 with value: 0.681484088512714.\u001b[0m\n",
      "\u001b[32m[I 2024-09-07 17:37:24,900]\u001b[0m Trial 59 finished with value: 0.6403260188609401 and parameters: {'alpha': 0.006328650232177858}. Best is trial 39 with value: 0.681484088512714.\u001b[0m\n",
      "\u001b[32m[I 2024-09-07 17:37:26,434]\u001b[0m Trial 61 finished with value: 0.5615250149586558 and parameters: {'alpha': 0.012922397891643202}. Best is trial 39 with value: 0.681484088512714.\u001b[0m\n",
      "\u001b[32m[I 2024-09-07 17:37:27,253]\u001b[0m Trial 60 finished with value: 0.6491580552394474 and parameters: {'alpha': 0.00564283510542307}. Best is trial 39 with value: 0.681484088512714.\u001b[0m\n",
      "\u001b[32m[I 2024-09-07 17:37:27,894]\u001b[0m Trial 63 finished with value: 0.4589882329682474 and parameters: {'alpha': 0.022595679122142567}. Best is trial 39 with value: 0.681484088512714.\u001b[0m\n",
      "\u001b[32m[I 2024-09-07 17:37:41,669]\u001b[0m Trial 38 finished with value: 0.6553642591495912 and parameters: {'alpha': 0.0006340005338823845}. Best is trial 39 with value: 0.681484088512714.\u001b[0m\n",
      "\u001b[32m[I 2024-09-07 17:37:42,381]\u001b[0m Trial 65 finished with value: 0.5191535523817002 and parameters: {'alpha': 0.01669553110494238}. Best is trial 39 with value: 0.681484088512714.\u001b[0m\n",
      "\u001b[32m[I 2024-09-07 17:37:46,569]\u001b[0m Trial 66 finished with value: 0.6703000116177042 and parameters: {'alpha': 0.0038685076670333125}. Best is trial 39 with value: 0.681484088512714.\u001b[0m\n",
      "\u001b[32m[I 2024-09-07 17:37:46,867]\u001b[0m Trial 67 finished with value: 0.2468323069339494 and parameters: {'alpha': 0.05683717050647545}. Best is trial 39 with value: 0.681484088512714.\u001b[0m\n",
      "\u001b[32m[I 2024-09-07 17:37:47,985]\u001b[0m Trial 68 finished with value: 0.5695533309752476 and parameters: {'alpha': 0.012186293279362236}. Best is trial 39 with value: 0.681484088512714.\u001b[0m\n",
      "\u001b[32m[I 2024-09-07 17:37:49,115]\u001b[0m Trial 25 finished with value: 0.6375741289232204 and parameters: {'alpha': 0.00044879416642701515}. Best is trial 39 with value: 0.681484088512714.\u001b[0m\n",
      "\u001b[32m[I 2024-09-07 17:37:52,419]\u001b[0m Trial 40 finished with value: 0.6498364934483268 and parameters: {'alpha': 0.0005554990798442199}. Best is trial 39 with value: 0.681484088512714.\u001b[0m\n",
      "\u001b[32m[I 2024-09-07 17:37:53,616]\u001b[0m Trial 70 finished with value: 0.6669241220974167 and parameters: {'alpha': 0.004202544530767707}. Best is trial 39 with value: 0.681484088512714.\u001b[0m\n",
      "\u001b[32m[I 2024-09-07 17:37:53,702]\u001b[0m Trial 69 finished with value: 0.6739431901638089 and parameters: {'alpha': 0.0035361265696889294}. Best is trial 39 with value: 0.681484088512714.\u001b[0m\n",
      "\u001b[32m[I 2024-09-07 17:37:55,487]\u001b[0m Trial 71 finished with value: 0.6349813188466678 and parameters: {'alpha': 0.00678001403149971}. Best is trial 39 with value: 0.681484088512714.\u001b[0m\n",
      "\u001b[32m[I 2024-09-07 17:37:56,391]\u001b[0m Trial 72 finished with value: 0.6233440081653903 and parameters: {'alpha': 0.00772345862839959}. Best is trial 39 with value: 0.681484088512714.\u001b[0m\n",
      "\u001b[32m[I 2024-09-07 17:37:56,640]\u001b[0m Trial 73 finished with value: 0.6355011063827882 and parameters: {'alpha': 0.006736401000619018}. Best is trial 39 with value: 0.681484088512714.\u001b[0m\n",
      "\u001b[32m[I 2024-09-07 17:38:00,656]\u001b[0m Trial 74 finished with value: 0.6772659314083102 and parameters: {'alpha': 0.003173410692199692}. Best is trial 39 with value: 0.681484088512714.\u001b[0m\n",
      "\u001b[32m[I 2024-09-07 17:38:02,267]\u001b[0m Trial 77 finished with value: 0.5760460794860564 and parameters: {'alpha': 0.011615617861800574}. Best is trial 39 with value: 0.681484088512714.\u001b[0m\n",
      "\u001b[32m[I 2024-09-07 17:38:02,268]\u001b[0m Trial 75 finished with value: 0.6713494335052864 and parameters: {'alpha': 0.0037720987272319225}. Best is trial 39 with value: 0.681484088512714.\u001b[0m\n",
      "\u001b[32m[I 2024-09-07 17:38:03,096]\u001b[0m Trial 78 finished with value: 0.5265932482309701 and parameters: {'alpha': 0.016017269319676442}. Best is trial 39 with value: 0.681484088512714.\u001b[0m\n",
      "\u001b[32m[I 2024-09-07 17:38:03,126]\u001b[0m Trial 79 finished with value: 0.5273086906744273 and parameters: {'alpha': 0.01595269671064324}. Best is trial 39 with value: 0.681484088512714.\u001b[0m\n",
      "\u001b[32m[I 2024-09-07 17:38:05,420]\u001b[0m Trial 76 finished with value: 0.6798156848871882 and parameters: {'alpha': 0.0027655379765446466}. Best is trial 39 with value: 0.681484088512714.\u001b[0m\n",
      "\u001b[32m[I 2024-09-07 17:38:08,944]\u001b[0m Trial 81 finished with value: 0.6793008896762671 and parameters: {'alpha': 0.002854154590017786}. Best is trial 39 with value: 0.681484088512714.\u001b[0m\n",
      "\u001b[32m[I 2024-09-07 17:38:09,247]\u001b[0m Trial 80 finished with value: 0.6774016955221251 and parameters: {'alpha': 0.003153049478800821}. Best is trial 39 with value: 0.681484088512714.\u001b[0m\n",
      "\u001b[32m[I 2024-09-07 17:38:10,520]\u001b[0m Trial 83 finished with value: 0.593581306338339 and parameters: {'alpha': 0.010163198317827016}. Best is trial 39 with value: 0.681484088512714.\u001b[0m\n",
      "\u001b[32m[I 2024-09-07 17:38:10,764]\u001b[0m Trial 84 finished with value: 0.5938667572330676 and parameters: {'alpha': 0.010139168126549162}. Best is trial 39 with value: 0.681484088512714.\u001b[0m\n",
      "\u001b[32m[I 2024-09-07 17:38:11,856]\u001b[0m Trial 82 finished with value: 0.6758959176802602 and parameters: {'alpha': 0.003342773933133215}. Best is trial 39 with value: 0.681484088512714.\u001b[0m\n",
      "\u001b[32m[I 2024-09-07 17:38:16,680]\u001b[0m Trial 86 finished with value: 0.6789124001294737 and parameters: {'alpha': 0.002916067715096675}. Best is trial 39 with value: 0.681484088512714.\u001b[0m\n",
      "\u001b[32m[I 2024-09-07 17:38:17,644]\u001b[0m Trial 87 finished with value: 0.6790040560724149 and parameters: {'alpha': 0.002901811137434017}. Best is trial 39 with value: 0.681484088512714.\u001b[0m\n",
      "\u001b[32m[I 2024-09-07 17:38:17,851]\u001b[0m Trial 85 finished with value: 0.6761979406108704 and parameters: {'alpha': 0.0033096958905133493}. Best is trial 39 with value: 0.681484088512714.\u001b[0m\n",
      "\u001b[32m[I 2024-09-07 17:38:18,029]\u001b[0m Trial 89 finished with value: 0.10188650969084496 and parameters: {'alpha': 0.09155307563346063}. Best is trial 39 with value: 0.681484088512714.\u001b[0m\n",
      "\u001b[32m[I 2024-09-07 17:38:19,548]\u001b[0m Trial 52 finished with value: 0.6439271918136045 and parameters: {'alpha': 0.0004939773929847802}. Best is trial 39 with value: 0.681484088512714.\u001b[0m\n",
      "\u001b[32m[I 2024-09-07 17:38:23,250]\u001b[0m Trial 92 finished with value: 0.6437526795496457 and parameters: {'alpha': 0.006051944431207122}. Best is trial 39 with value: 0.681484088512714.\u001b[0m\n",
      "\u001b[32m[I 2024-09-07 17:38:26,416]\u001b[0m Trial 93 finished with value: 0.6205968975364111 and parameters: {'alpha': 0.007947069001647178}. Best is trial 39 with value: 0.681484088512714.\u001b[0m\n",
      "\u001b[32m[I 2024-09-07 17:38:38,016]\u001b[0m Trial 94 finished with value: 0.6815455513252523 and parameters: {'alpha': 0.002138955437672642}. Best is trial 94 with value: 0.6815455513252523.\u001b[0m\n",
      "\u001b[32m[I 2024-09-07 17:38:38,985]\u001b[0m Trial 95 finished with value: 0.5572333695995623 and parameters: {'alpha': 0.013318554762345301}. Best is trial 94 with value: 0.6815455513252523.\u001b[0m\n",
      "\u001b[32m[I 2024-09-07 17:38:46,868]\u001b[0m Trial 64 finished with value: 0.6409050480496068 and parameters: {'alpha': 0.0004703969128623472}. Best is trial 94 with value: 0.6815455513252523.\u001b[0m\n",
      "\u001b[32m[I 2024-09-07 17:38:48,400]\u001b[0m Trial 97 finished with value: 0.5846669176136723 and parameters: {'alpha': 0.010908141597460938}. Best is trial 94 with value: 0.6815455513252523.\u001b[0m\n",
      "\u001b[32m[I 2024-09-07 17:38:48,943]\u001b[0m Trial 98 finished with value: 0.28630097431192597 and parameters: {'alpha': 0.04922133673410079}. Best is trial 94 with value: 0.6815455513252523.\u001b[0m\n",
      "\u001b[32m[I 2024-09-07 17:38:51,217]\u001b[0m Trial 99 finished with value: 0.6163524406580502 and parameters: {'alpha': 0.008293494961967162}. Best is trial 94 with value: 0.6815455513252523.\u001b[0m\n",
      "\u001b[32m[I 2024-09-07 17:39:10,488]\u001b[0m Trial 56 finished with value: 0.5984658300610797 and parameters: {'alpha': 0.000276130854240237}. Best is trial 94 with value: 0.6815455513252523.\u001b[0m\n",
      "\u001b[32m[I 2024-09-07 17:39:22,561]\u001b[0m Trial 57 finished with value: 0.5838353593214082 and parameters: {'alpha': 0.00023902396831010017}. Best is trial 94 with value: 0.6815455513252523.\u001b[0m\n",
      "\u001b[32m[I 2024-09-07 17:39:23,695]\u001b[0m Trial 62 finished with value: 0.594169017981454 and parameters: {'alpha': 0.0002643213293322365}. Best is trial 94 with value: 0.6815455513252523.\u001b[0m\n",
      "\u001b[32m[I 2024-09-07 17:39:29,819]\u001b[0m Trial 91 finished with value: 0.636219647944159 and parameters: {'alpha': 0.00044060284254216256}. Best is trial 94 with value: 0.6815455513252523.\u001b[0m\n",
      "\u001b[32m[I 2024-09-07 17:39:34,831]\u001b[0m Trial 88 finished with value: 0.6344924021410816 and parameters: {'alpha': 0.00043031043578097504}. Best is trial 94 with value: 0.6815455513252523.\u001b[0m\n",
      "\u001b[32m[I 2024-09-07 17:39:36,353]\u001b[0m Trial 51 finished with value: 0.5553382882843041 and parameters: {'alpha': 0.00019048627344445145}. Best is trial 94 with value: 0.6815455513252523.\u001b[0m\n",
      "\u001b[32m[I 2024-09-07 17:39:51,327]\u001b[0m Trial 36 finished with value: 0.4799999023222249 and parameters: {'alpha': 0.0001223802188561815}. Best is trial 94 with value: 0.6815455513252523.\u001b[0m\n",
      "\u001b[32m[I 2024-09-07 17:39:55,961]\u001b[0m Trial 96 finished with value: 0.5772310881609212 and parameters: {'alpha': 0.00022536866922847395}. Best is trial 94 with value: 0.6815455513252523.\u001b[0m\n",
      "\u001b[32m[I 2024-09-07 17:40:02,530]\u001b[0m Trial 90 finished with value: 0.5164859337071895 and parameters: {'alpha': 0.00014872693875544476}. Best is trial 94 with value: 0.6815455513252523.\u001b[0m\n"
     ]
    },
    {
     "name": "stdout",
     "output_type": "stream",
     "text": [
      "{'alpha': 0.002138955437672642}\n",
      "0.6815455513252523\n",
      "FrozenTrial(number=94, values=[0.6815455513252523], datetime_start=datetime.datetime(2024, 9, 7, 17, 38, 26, 421610), datetime_complete=datetime.datetime(2024, 9, 7, 17, 38, 38, 16204), params={'alpha': 0.002138955437672642}, distributions={'alpha': UniformDistribution(high=0.1, low=0.0001)}, user_attrs={}, system_attrs={}, intermediate_values={}, trial_id=94, state=TrialState.COMPLETE, value=None)\n"
     ]
    }
   ],
   "source": [
    "X_train = pd.concat([X, x_valid, x_test])\n",
    "y_train = np.concatenate([y, y_valid, y_test])\n",
    "\n",
    "def objective(trial):\n",
    "    # Alpha is the regularization parameter\n",
    "    # the bigger it is, the the more the model will be penalized\n",
    "    # \n",
    "    # The objective is: (1 / (2 * n_samples)) * ||y - Xw||^2_2 + alpha * ||w||_1\n",
    "    # \n",
    "    # Alpha shall be between 0 and 10000 and it will be chosen in a log scale\n",
    "    alpha = trial.suggest_float('alpha', 1e-4, .1)\n",
    "    # Cross-validate the model\n",
    "    reg = Lasso(alpha=alpha, max_iter=int(1e4))\n",
    "    # Perform cross-validation\n",
    "    scores = cross_val_score(reg, X_train, y_train, cv=5, scoring='r2')\n",
    "    \n",
    "\n",
    "    return np.mean(scores)\n",
    "\n",
    "sampler = TPESampler(seed=10)\n",
    "study = optuna.create_study(direction='maximize', sampler=sampler,\n",
    "                            study_name='lasso')\n",
    "study.optimize(objective, n_trials=100, n_jobs=-1)\n",
    "print(study.best_params)\n",
    "print(study.best_value)\n",
    "print(study.best_trial)\n"
   ]
  },
  {
   "cell_type": "code",
   "execution_count": 33,
   "metadata": {},
   "outputs": [
    {
     "name": "stdout",
     "output_type": "stream",
     "text": [
      "Train nRMSE: 0.4463\n",
      "Test nRMSE: 0.5050\n",
      "Train R2: 0.8008\n",
      "Test R2: 0.7450\n"
     ]
    },
    {
     "data": {
      "image/png": "[encoded data removed]",
      "text/plain": [
       "<Figure size 720x720 with 1 Axes>"
      ]
     },
     "metadata": {
      "needs_background": "light"
     },
     "output_type": "display_data"
    }
   ],
   "source": [
    "# Train with X_train and y_train, using best parameters:\n",
    "reg = Lasso(alpha=0.002, max_iter=int(1e4))\n",
    "reg.fit(X_train, y_train)\n",
    "\n",
    "# Predict and compute the nRMSE for train and test set\n",
    "y_pred = reg.predict(X_train)\n",
    "nrmse, r2, mse, rmse = nRMSE(y_train, y_pred)\n",
    "\n",
    "y_pred = reg.predict(x_test)\n",
    "nrmse_test, r2_test, mse_test, rmse_test = nRMSE(y_test, y_pred)\n",
    "\n",
    "# Print:\n",
    "print(f'Train nRMSE: {nrmse:.4f}')\n",
    "print(f'Test nRMSE: {nrmse_test:.4f}')\n",
    "print(f'Train R2: {r2:.4f}')\n",
    "print(f'Test R2: {r2_test:.4f}')\n",
    "\n",
    "# Plot predictions vs true values\n",
    "plt.figure(figsize=(10, 10))\n",
    "plt.plot(y_test, y_pred, 'kx', markersize=8)\n",
    "# Plot line\n",
    "plt.plot([min(y_test), max(y_test)], [min(y_test), max(y_test)], color='red')\n",
    "plt.xlabel('True Values')\n",
    "plt.ylabel('Predictions')\n",
    "plt.title('Lasso Regression')\n",
    "plt.show()"
   ]
  },
  {
   "cell_type": "markdown",
   "metadata": {},
   "source": [
    "## Optina search, Ridge"
   ]
  },
  {
   "cell_type": "code",
   "execution_count": 34,
   "metadata": {},
   "outputs": [
    {
     "name": "stderr",
     "output_type": "stream",
     "text": [
      "\u001b[32m[I 2024-09-07 17:50:12,746]\u001b[0m A new study created in memory with name: ridge\u001b[0m\n",
      "/Users/cesarasa/miniconda3/envs/torch-gpu/lib/python3.8/site-packages/optuna/study/study.py:393: FutureWarning: `n_jobs` argument has been deprecated in v2.7.0. This feature will be removed in v4.0.0. See https://github.com/optuna/optuna/releases/tag/v2.7.0.\n",
      "  warnings.warn(\n",
      "\u001b[32m[I 2024-09-07 17:50:16,806]\u001b[0m Trial 9 finished with value: 0.5566133569864624 and parameters: {'alpha': 0.7606771121441582}. Best is trial 9 with value: 0.5566133569864624.\u001b[0m\n",
      "\u001b[32m[I 2024-09-07 17:50:16,994]\u001b[0m Trial 0 finished with value: -1.1569022855599733 and parameters: {'alpha': 0.00655639959232707}. Best is trial 9 with value: 0.5566133569864624.\u001b[0m\n",
      "\u001b[32m[I 2024-09-07 17:50:17,139]\u001b[0m Trial 2 finished with value: 0.5417136344055882 and parameters: {'alpha': 0.6493326965447427}. Best is trial 9 with value: 0.5566133569864624.\u001b[0m\n",
      "\u001b[32m[I 2024-09-07 17:50:17,186]\u001b[0m Trial 6 finished with value: 0.424856140321846 and parameters: {'alpha': 0.2512533515042619}. Best is trial 9 with value: 0.5566133569864624.\u001b[0m\n",
      "\u001b[32m[I 2024-09-07 17:50:17,190]\u001b[0m Trial 3 finished with value: -0.011486505703714655 and parameters: {'alpha': 0.03951034677673593}. Best is trial 9 with value: 0.5566133569864624.\u001b[0m\n",
      "\u001b[32m[I 2024-09-07 17:50:17,224]\u001b[0m Trial 7 finished with value: 0.5640195105303162 and parameters: {'alpha': 0.8268507797197976}. Best is trial 7 with value: 0.5640195105303162.\u001b[0m\n",
      "\u001b[32m[I 2024-09-07 17:50:17,383]\u001b[0m Trial 4 finished with value: 0.15439185916366033 and parameters: {'alpha': 0.06724071416061843}. Best is trial 7 with value: 0.5640195105303162.\u001b[0m\n",
      "\u001b[32m[I 2024-09-07 17:50:17,531]\u001b[0m Trial 5 finished with value: -0.15492405884863575 and parameters: {'alpha': 0.027481300428906556}. Best is trial 7 with value: 0.5640195105303162.\u001b[0m\n",
      "\u001b[32m[I 2024-09-07 17:50:17,843]\u001b[0m Trial 1 finished with value: 0.5649287100665287 and parameters: {'alpha': 0.8355593348701276}. Best is trial 1 with value: 0.5649287100665287.\u001b[0m\n",
      "\u001b[32m[I 2024-09-07 17:50:17,899]\u001b[0m Trial 8 finished with value: -0.04226994851953678 and parameters: {'alpha': 0.03631602341030786}. Best is trial 1 with value: 0.5649287100665287.\u001b[0m\n",
      "\u001b[32m[I 2024-09-07 17:50:20,682]\u001b[0m Trial 12 finished with value: 0.3810923901668607 and parameters: {'alpha': 0.19142346568062368}. Best is trial 1 with value: 0.5649287100665287.\u001b[0m\n",
      "\u001b[32m[I 2024-09-07 17:50:20,733]\u001b[0m Trial 10 finished with value: 0.4552888787788142 and parameters: {'alpha': 0.31008854279199344}. Best is trial 1 with value: 0.5649287100665287.\u001b[0m\n",
      "\u001b[32m[I 2024-09-07 17:50:20,745]\u001b[0m Trial 15 finished with value: 0.5586995835835337 and parameters: {'alpha': 0.778498181318681}. Best is trial 1 with value: 0.5649287100665287.\u001b[0m\n",
      "\u001b[32m[I 2024-09-07 17:50:21,068]\u001b[0m Trial 16 finished with value: 0.5258221477368881 and parameters: {'alpha': 0.555252164555163}. Best is trial 1 with value: 0.5649287100665287.\u001b[0m\n",
      "\u001b[32m[I 2024-09-07 17:50:21,339]\u001b[0m Trial 11 finished with value: 0.4861698808127267 and parameters: {'alpha': 0.39264212644289226}. Best is trial 1 with value: 0.5649287100665287.\u001b[0m\n",
      "\u001b[32m[I 2024-09-07 17:50:21,725]\u001b[0m Trial 17 finished with value: 0.5759010389387706 and parameters: {'alpha': 0.9523649248594009}. Best is trial 17 with value: 0.5759010389387706.\u001b[0m\n",
      "\u001b[32m[I 2024-09-07 17:50:21,912]\u001b[0m Trial 14 finished with value: 0.5489553906217399 and parameters: {'alpha': 0.7001958008973399}. Best is trial 17 with value: 0.5759010389387706.\u001b[0m\n",
      "\u001b[32m[I 2024-09-07 17:50:22,657]\u001b[0m Trial 13 finished with value: 0.5207115404969068 and parameters: {'alpha': 0.5292526805064335}. Best is trial 17 with value: 0.5759010389387706.\u001b[0m\n",
      "\u001b[32m[I 2024-09-07 17:50:22,937]\u001b[0m Trial 18 finished with value: 0.5777561640510649 and parameters: {'alpha': 0.9744973830784365}. Best is trial 18 with value: 0.5777561640510649.\u001b[0m\n",
      "\u001b[32m[I 2024-09-07 17:50:23,121]\u001b[0m Trial 19 finished with value: 0.5778229639418827 and parameters: {'alpha': 0.9753085789627287}. Best is trial 19 with value: 0.5778229639418827.\u001b[0m\n",
      "\u001b[32m[I 2024-09-07 17:50:24,544]\u001b[0m Trial 20 finished with value: 0.5787612360885863 and parameters: {'alpha': 0.9868097729397908}. Best is trial 20 with value: 0.5787612360885863.\u001b[0m\n",
      "\u001b[32m[I 2024-09-07 17:50:25,961]\u001b[0m Trial 24 finished with value: 0.5795005583705097 and parameters: {'alpha': 0.9960152256537363}. Best is trial 24 with value: 0.5795005583705097.\u001b[0m\n",
      "\u001b[32m[I 2024-09-07 17:50:25,962]\u001b[0m Trial 23 finished with value: 0.5782074355220652 and parameters: {'alpha': 0.9799970938803395}. Best is trial 24 with value: 0.5795005583705097.\u001b[0m\n",
      "\u001b[32m[I 2024-09-07 17:50:26,075]\u001b[0m Trial 22 finished with value: 0.5783728561750688 and parameters: {'alpha': 0.9820246872918063}. Best is trial 24 with value: 0.5795005583705097.\u001b[0m\n",
      "\u001b[32m[I 2024-09-07 17:50:26,656]\u001b[0m Trial 25 finished with value: 0.5790273097956009 and parameters: {'alpha': 0.9901080515553254}. Best is trial 24 with value: 0.5795005583705097.\u001b[0m\n",
      "\u001b[32m[I 2024-09-07 17:50:26,676]\u001b[0m Trial 21 finished with value: 0.5776659951515917 and parameters: {'alpha': 0.9734039949053169}. Best is trial 24 with value: 0.5795005583705097.\u001b[0m\n",
      "\u001b[32m[I 2024-09-07 17:50:27,203]\u001b[0m Trial 26 finished with value: 0.578880993981537 and parameters: {'alpha': 0.9882922753866739}. Best is trial 24 with value: 0.5795005583705097.\u001b[0m\n",
      "\u001b[32m[I 2024-09-07 17:50:27,928]\u001b[0m Trial 30 finished with value: 0.5797699167924583 and parameters: {'alpha': 0.999400890450139}. Best is trial 30 with value: 0.5797699167924583.\u001b[0m\n",
      "\u001b[32m[I 2024-09-07 17:50:28,212]\u001b[0m Trial 28 finished with value: 0.5782481402548987 and parameters: {'alpha': 0.9804954407690241}. Best is trial 30 with value: 0.5797699167924583.\u001b[0m\n",
      "\u001b[32m[I 2024-09-07 17:50:28,324]\u001b[0m Trial 29 finished with value: 0.5791895717764014 and parameters: {'alpha': 0.9921275391548705}. Best is trial 30 with value: 0.5797699167924583.\u001b[0m\n",
      "\u001b[32m[I 2024-09-07 17:50:28,379]\u001b[0m Trial 27 finished with value: 0.5764120235423423 and parameters: {'alpha': 0.9583858755857005}. Best is trial 30 with value: 0.5797699167924583.\u001b[0m\n",
      "\u001b[32m[I 2024-09-07 17:50:30,349]\u001b[0m Trial 32 finished with value: 0.5700121370694243 and parameters: {'alpha': 0.8868585216320973}. Best is trial 30 with value: 0.5797699167924583.\u001b[0m\n",
      "\u001b[32m[I 2024-09-07 17:50:30,407]\u001b[0m Trial 33 finished with value: 0.5685608257475302 and parameters: {'alpha': 0.8717451672232633}. Best is trial 30 with value: 0.5797699167924583.\u001b[0m\n",
      "\u001b[32m[I 2024-09-07 17:50:30,413]\u001b[0m Trial 31 finished with value: 0.5693167122772056 and parameters: {'alpha': 0.8795684249199658}. Best is trial 30 with value: 0.5797699167924583.\u001b[0m\n",
      "\u001b[32m[I 2024-09-07 17:50:31,623]\u001b[0m Trial 35 finished with value: 0.5685219769159985 and parameters: {'alpha': 0.8713458903054414}. Best is trial 30 with value: 0.5797699167924583.\u001b[0m\n",
      "\u001b[32m[I 2024-09-07 17:50:32,056]\u001b[0m Trial 36 finished with value: 0.5684756656011366 and parameters: {'alpha': 0.8708702714685328}. Best is trial 30 with value: 0.5797699167924583.\u001b[0m\n",
      "\u001b[32m[I 2024-09-07 17:50:32,062]\u001b[0m Trial 34 finished with value: 0.5717822899121174 and parameters: {'alpha': 0.905825707386473}. Best is trial 30 with value: 0.5797699167924583.\u001b[0m\n",
      "\u001b[32m[I 2024-09-07 17:50:32,154]\u001b[0m Trial 38 finished with value: 0.5712348724569698 and parameters: {'alpha': 0.8998961696629558}. Best is trial 30 with value: 0.5797699167924583.\u001b[0m\n",
      "\u001b[32m[I 2024-09-07 17:50:32,544]\u001b[0m Trial 37 finished with value: 0.5679193749548134 and parameters: {'alpha': 0.8651871958661316}. Best is trial 30 with value: 0.5797699167924583.\u001b[0m\n",
      "\u001b[32m[I 2024-09-07 17:50:33,197]\u001b[0m Trial 39 finished with value: 0.5686062806162597 and parameters: {'alpha': 0.8722126846326579}. Best is trial 30 with value: 0.5797699167924583.\u001b[0m\n",
      "\u001b[32m[I 2024-09-07 17:50:33,202]\u001b[0m Trial 40 finished with value: 0.5691999058745276 and parameters: {'alpha': 0.8783526990174695}. Best is trial 30 with value: 0.5797699167924583.\u001b[0m\n",
      "\u001b[32m[I 2024-09-07 17:50:35,151]\u001b[0m Trial 43 finished with value: 0.572353903411271 and parameters: {'alpha': 0.9120796035835054}. Best is trial 30 with value: 0.5797699167924583.\u001b[0m\n",
      "\u001b[32m[I 2024-09-07 17:50:35,152]\u001b[0m Trial 41 finished with value: 0.5714665964500412 and parameters: {'alpha': 0.9023990953432233}. Best is trial 30 with value: 0.5797699167924583.\u001b[0m\n",
      "\u001b[32m[I 2024-09-07 17:50:35,344]\u001b[0m Trial 42 finished with value: 0.5388910398730375 and parameters: {'alpha': 0.6309807130269007}. Best is trial 30 with value: 0.5797699167924583.\u001b[0m\n"
     ]
    }
   ],
   "source": [
    "def objective(trial):\n",
    "    # Alpha is the regularization parameter\n",
    "    # the bigger it is, the the more the model will be penalized\n",
    "    # \n",
    "    # The objective is: (1 / (2 * n_samples)) * ||y - Xw||^2_2 + alpha * ||w||_1\n",
    "    # \n",
    "    # Alpha shall be between 0 and 10000 and it will be chosen in a log scale\n",
    "    alpha = trial.suggest_float('alpha', 1e-4, 1)\n",
    "    # Cross-validate the model\n",
    "    reg = Ridge(alpha=alpha, max_iter=int(1e4))\n",
    "    # Perform cross-validation\n",
    "    scores = cross_val_score(reg, X_train, y_train, cv=5, scoring='r2')\n",
    "    \n",
    "\n",
    "    return np.mean(scores)\n",
    "\n",
    "sampler = TPESampler(seed=10)\n",
    "study2 = optuna.create_study(direction='maximize', sampler=sampler,\n",
    "                            study_name='ridge')\n",
    "study2.optimize(objective, n_trials=100, n_jobs=-1)\n",
    "print(study2.best_params)\n",
    "print(study2.best_value)\n",
    "print(study2.best_trial)"
   ]
  }
 ],
 "metadata": {
  "kernelspec": {
   "display_name": "Python 3",
   "language": "python",
   "name": "python3"
  },
  "language_info": {
   "codemirror_mode": {
    "name": "ipython",
    "version": 3
   },
   "file_extension": ".py",
   "mimetype": "text/x-python",
   "name": "python",
   "nbconvert_exporter": "python",
   "pygments_lexer": "ipython3",
   "version": "3.8.13"
  }
 },
 "nbformat": 4,
 "nbformat_minor": 2
}
