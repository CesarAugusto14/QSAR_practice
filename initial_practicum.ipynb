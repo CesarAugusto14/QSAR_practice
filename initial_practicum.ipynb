{
 "cells": [
  {
   "cell_type": "code",
   "execution_count": 43,
   "metadata": {},
   "outputs": [],
   "source": [
    "import deepchem as dc\n",
    "import pandas as pd\n"
   ]
  },
  {
   "cell_type": "markdown",
   "metadata": {},
   "source": [
    "# Studying Ways of visualization of "
   ]
  },
  {
   "cell_type": "code",
   "execution_count": 37,
   "metadata": {},
   "outputs": [],
   "source": [
    "# Load BACE regression dataset\n",
    "# featurizer =\n",
    "bace_tasks, bace_datasets, transformers = dc.molnet.load_bace_regression(featurizer='ECFP')"
   ]
  },
  {
   "cell_type": "code",
   "execution_count": 45,
   "metadata": {},
   "outputs": [],
   "source": [
    "# Create a DataFrame \n",
    "smiles = bace_datasets[0].ids\n",
    "targets = bace_datasets[0].y\n",
    "fingerprints = bace_datasets[0].X\n",
    "\n",
    "# Create 2 Dataframes: 1 with fingerprints and targets, and 1 with smiles and targets\n",
    "df = pd.DataFrame(fingerprints)\n",
    "df['target'] = targets\n",
    "\n",
    "df_smiles = pd.DataFrame(smiles, columns=['smiles'])\n",
    "df_smiles['target'] = targets\n"
   ]
  },
  {
   "cell_type": "code",
   "execution_count": 63,
   "metadata": {},
   "outputs": [],
   "source": [
    "# Compute Tanimoto similarity matrix\n",
    "from rdkit import Chem\n",
    "from rdkit.Chem import AllChem\n",
    "from rdkit import DataStructs\n",
    "import numpy as np\n",
    "\n",
    "# Convert fingerprints to RDKit format\n",
    "ms = [Chem.MolFromSmiles(x) for x in smiles]\n",
    "fingerprints = [AllChem.GetMorganFingerprintAsBitVect(x, 2, nBits=1024) for x in ms]\n",
    "\n",
    "# Create a similarity list\n",
    "query, target, similarity = [], [], []\n",
    "for n in range(len(fingerprints)-1):\n",
    "    for m in range(n+1, len(fingerprints)):\n",
    "        query.append(smiles[n])\n",
    "        target.append(smiles[m])\n",
    "        similarity.append(DataStructs.TanimotoSimilarity(fingerprints[n], fingerprints[m]))\n",
    "\n"
   ]
  },
  {
   "cell_type": "code",
   "execution_count": 69,
   "metadata": {},
   "outputs": [],
   "source": [
    "# Df\n",
    "df_similarity = pd.DataFrame({'query': query, 'target': target, 'similarity': similarity})\n",
    "# Build a similarity matrix\n",
    "similarity_matrix = np.zeros((len(smiles), len(smiles)))\n",
    "for i in range(len(query)):\n",
    "    n = df_smiles.index[df_smiles['smiles'] == query[i]].tolist()[0]\n",
    "    m = df_smiles.index[df_smiles['smiles'] == target[i]].tolist()[0]\n",
    "    similarity_matrix[n, m] = similarity[i]\n",
    "    similarity_matrix[m, n] = similarity[i]\n",
    "    \n",
    "similarity_matrix"
   ]
  }
 ],
 "metadata": {
  "kernelspec": {
   "display_name": "Python 3",
   "language": "python",
   "name": "python3"
  },
  "language_info": {
   "codemirror_mode": {
    "name": "ipython",
    "version": 3
   },
   "file_extension": ".py",
   "mimetype": "text/x-python",
   "name": "python",
   "nbconvert_exporter": "python",
   "pygments_lexer": "ipython3",
   "version": "3.8.13"
  }
 },
 "nbformat": 4,
 "nbformat_minor": 2
}
